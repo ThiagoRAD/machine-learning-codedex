{
 "cells": [
  {
   "cell_type": "code",
   "execution_count": 1,
   "id": "cabffa04",
   "metadata": {},
   "outputs": [],
   "source": [
    "import pandas as pd\n",
    "from sklearn.linear_model import LinearRegression\n",
    "\n",
    "# Creating the dataset\n",
    "data = pd.DataFrame({\n",
    "  'size_sqft': [450, 500, 600, 750, 800, 850, 900, 1000, 1100, 1200],\n",
    "  'floor':     [1, 2, 1, 3, 5, 4, 2, 6, 7, 10],\n",
    "  'bedrooms':  [1, 1, 1, 2, 2, 2, 2, 3, 3, 3],\n",
    "  'price':     [1200, 1300, 1450, 1600, 1700, 1750, 1800, 2000, 2150, 2300]\n",
    "})\n",
    "\n",
    "# Splitting the dataset into X and y\n",
    "X = data[['size_sqft', 'floor', 'bedrooms']]\n",
    "y = data['price']\n",
    "\n",
    "# Example: 950 sqft, 5th floor, 2 bedrooms\n",
    "new_apartment = pd.DataFrame({\n",
    "  'size_sqft': [950],\n",
    "  'floor': [5],\n",
    "  'bedrooms': [2]\n",
    "})"
   ]
  },
  {
   "cell_type": "code",
   "execution_count": 2,
   "id": "57dab205",
   "metadata": {},
   "outputs": [
    {
     "data": {
      "text/plain": [
       "array([1921.72575977])"
      ]
     },
     "execution_count": 2,
     "metadata": {},
     "output_type": "execute_result"
    }
   ],
   "source": [
    "linear_regression_model = LinearRegression()\n",
    "# with fit we train the model, y is the target and x the variables\n",
    "linear_regression_model.fit(X, y)\n",
    "\n",
    "predicted_price = linear_regression_model.predict(new_apartment)\n",
    "predicted_price"
   ]
  },
  {
   "cell_type": "code",
   "execution_count": 8,
   "id": "53ffc906",
   "metadata": {},
   "outputs": [
    {
     "name": "stdout",
     "output_type": "stream",
     "text": [
      "Predicted price for the new apartment: 1921.73\n"
     ]
    }
   ],
   "source": [
    "print(f\"Predicted price for the new apartment: {predicted_price[0]:.2f}\")"
   ]
  }
 ],
 "metadata": {
  "kernelspec": {
   "display_name": "Python 3",
   "language": "python",
   "name": "python3"
  },
  "language_info": {
   "codemirror_mode": {
    "name": "ipython",
    "version": 3
   },
   "file_extension": ".py",
   "mimetype": "text/x-python",
   "name": "python",
   "nbconvert_exporter": "python",
   "pygments_lexer": "ipython3",
   "version": "3.13.7"
  }
 },
 "nbformat": 4,
 "nbformat_minor": 5
}
